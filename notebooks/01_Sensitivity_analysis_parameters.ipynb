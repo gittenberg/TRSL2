{
 "cells": [
  {
   "cell_type": "markdown",
   "id": "2d98dd6a-bb83-4d2e-8983-f41531eb5511",
   "metadata": {},
   "source": [
    "# 01 Sensitivity analysis of model parameters"
   ]
  },
  {
   "cell_type": "markdown",
   "id": "6f956b4d-3654-4f25-a171-8e7edee3b5f6",
   "metadata": {},
   "source": [
    "## A. Imports"
   ]
  },
  {
   "cell_type": "code",
   "execution_count": 80,
   "id": "17845e9b",
   "metadata": {},
   "outputs": [],
   "source": [
    "import pickle\n",
    "import numpy as np\n",
    "import matplotlib.pyplot as plt\n",
    "\n",
    "from prettytable import PrettyTable"
   ]
  },
  {
   "cell_type": "markdown",
   "id": "e2d5e051",
   "metadata": {},
   "source": [
    "Add translation to the `sys.path`:"
   ]
  },
  {
   "cell_type": "code",
   "execution_count": 2,
   "id": "893bfb70",
   "metadata": {},
   "outputs": [],
   "source": [
    "import sys\n",
    "sys.path.append(r'../')\n",
    "sys.path.append(r'../translation/')"
   ]
  },
  {
   "cell_type": "code",
   "execution_count": 3,
   "id": "da5d9023",
   "metadata": {},
   "outputs": [],
   "source": [
    "import translation"
   ]
  },
  {
   "cell_type": "markdown",
   "id": "f39e894e-e581-480d-984b-819761be9699",
   "metadata": {},
   "source": [
    "## B. Ribosomes"
   ]
  },
  {
   "cell_type": "code",
   "execution_count": 15,
   "id": "f93724e2-72b1-4288-aca6-1a99e0577697",
   "metadata": {},
   "outputs": [],
   "source": [
    "filepath =  {150000: \"../results/updated Shah transcriptome, full exome, no decay, updated initiation \"\n",
    "             \"rates according to Shah, ribosomes factor 0.75_20211109_0347_150000_ribosomes_3600s.p\",\n",
    "             200000: \"../results/updated Shah transcriptome, full exome, no decay, updated initiation \"\n",
    "             \"rates according to Shah_20211109_0858_200000_ribosomes_3600s.p\",\n",
    "             250000: \"../results/updated Shah transcriptome, full exome, no decay, updated initiation \"\n",
    "             \"rates according to Shah, ribosomes factor 1.25_20211108_2333_250000_ribosomes_3600s.p\"}"
   ]
  },
  {
   "cell_type": "markdown",
   "id": "6d14f880-0201-4a90-9d5b-fdc63ca6f0fa",
   "metadata": {},
   "source": [
    "Load results from file:"
   ]
  },
  {
   "cell_type": "code",
   "execution_count": 16,
   "id": "407e147b-9ff3-4ff8-9419-d93cdd1ab2bd",
   "metadata": {},
   "outputs": [
    {
     "name": "stdout",
     "output_type": "stream",
     "text": [
      "../results/updated Shah transcriptome, full exome, no decay, updated initiation rates according to Shah, ribosomes factor 0.75_20211109_0347_150000_ribosomes_3600s.p\n",
      "../results/updated Shah transcriptome, full exome, no decay, updated initiation rates according to Shah_20211109_0858_200000_ribosomes_3600s.p\n",
      "../results/updated Shah transcriptome, full exome, no decay, updated initiation rates according to Shah, ribosomes factor 1.25_20211108_2333_250000_ribosomes_3600s.p\n"
     ]
    }
   ],
   "source": [
    "results = {}\n",
    "\n",
    "for nribo in filepath:\n",
    "    print(filepath[nribo])\n",
    "    with open(filepath[nribo], 'rb') as f:\n",
    "        results[nribo] = pickle.load(f)"
   ]
  },
  {
   "cell_type": "code",
   "execution_count": 18,
   "id": "36d0f274-5d90-48e8-8f25-14902e28a264",
   "metadata": {},
   "outputs": [
    {
     "data": {
      "text/plain": [
       "dict_keys(['proteome', 'peptide_bonds', 'transcriptome', 'timerange', 'timecourses', 'description', 'time_stamp', 'n_ribosomes', 'n_tRNA', 'duration'])"
      ]
     },
     "execution_count": 18,
     "metadata": {},
     "output_type": "execute_result"
    }
   ],
   "source": [
    "results[150000].keys()"
   ]
  },
  {
   "cell_type": "code",
   "execution_count": 20,
   "id": "659c562c-65d6-4983-a3fa-46ed99fcd4da",
   "metadata": {},
   "outputs": [
    {
     "data": {
      "text/plain": [
       "1285720976"
      ]
     },
     "execution_count": 20,
     "metadata": {},
     "output_type": "execute_result"
    }
   ],
   "source": [
    "results[150000]['peptide_bonds']"
   ]
  },
  {
   "cell_type": "code",
   "execution_count": 21,
   "id": "0766d21b-7e0a-4b96-841b-6b98a348568a",
   "metadata": {},
   "outputs": [
    {
     "data": {
      "text/plain": [
       "57508"
      ]
     },
     "execution_count": 21,
     "metadata": {},
     "output_type": "execute_result"
    }
   ],
   "source": [
    "len(results[150000]['transcriptome'])"
   ]
  },
  {
   "cell_type": "markdown",
   "id": "bf9e2750-6a4e-490e-b5ad-028c6275d25b",
   "metadata": {},
   "source": [
    "Define protein names:"
   ]
  },
  {
   "cell_type": "code",
   "execution_count": 33,
   "id": "06879241-8b65-4164-abe9-ac6a520a5e77",
   "metadata": {},
   "outputs": [
    {
     "name": "stdout",
     "output_type": "stream",
     "text": [
      "150000\n",
      "200000\n",
      "250000\n"
     ]
    }
   ],
   "source": [
    "protnames = {}\n",
    "blacklist = ['ribos._bound', 'ribos._free', 'tRNA_free', 'tRNA_bound', 'ATP', 'GTP', 'AMP', 'GDP', 'protein', 'peptide_bonds']\n",
    "\n",
    "for nribo in results.keys():\n",
    "    print(nribo)\n",
    "    protnames[nribo] = results[nribo]['timecourses'].keys()\n",
    "    for fragment in blacklist:\n",
    "        protnames[nribo] = [name for name in protnames[nribo] if fragment not in name]"
   ]
  },
  {
   "cell_type": "markdown",
   "id": "8e863258-d046-4efa-bca6-85f2a1212ada",
   "metadata": {},
   "source": [
    "Define protein speeds:"
   ]
  },
  {
   "cell_type": "code",
   "execution_count": 45,
   "id": "890e935a-bfd6-457a-a24f-fa8b42a57e21",
   "metadata": {},
   "outputs": [
    {
     "name": "stdout",
     "output_type": "stream",
     "text": [
      "150000\n",
      "YKL060C 28.761064425770304\n",
      "YLR044C 38.547899159663864\n",
      "200000\n",
      "YJL189W 27.007282913165263\n",
      "YKL152C 25.215406162464983\n",
      "YKL060C 31.57787114845938\n",
      "YOL086C 25.554699645653297\n",
      "YAL038W 27.388515406162462\n",
      "YLR044C 42.53949579831932\n",
      "250000\n",
      "YJL189W 28.892156862745093\n",
      "YLR110C 26.039495798319326\n",
      "YKL152C 27.07899159663865\n",
      "YKL060C 33.71708683473389\n",
      "YOL086C 27.364248799002784\n",
      "YCR012W 26.57394957983193\n",
      "YAL038W 29.31428571428571\n",
      "YLR044C 45.90504201680672\n"
     ]
    }
   ],
   "source": [
    "prot_speeds = {}\n",
    "\n",
    "for nribo in results.keys():\n",
    "    print(nribo)\n",
    "    prot_speeds[nribo] = {}\n",
    "    for prot in protnames[nribo]:\n",
    "        start, stop = 599, len(results[nribo]['timecourses'][prot]) - 1  # 599 to exclude the \"burn in\" phase\n",
    "        prot_speeds[nribo][prot] = (results[nribo]['timecourses'][prot][stop] - results[nribo]['timecourses'][prot][start]) / \\\n",
    "        (1.0 * results[nribo]['timerange'][stop] - results[nribo]['timerange'][start])\n",
    "        if prot_speeds[nribo][prot] > 25: \n",
    "            print(prot, prot_speeds[nribo][prot])"
   ]
  },
  {
   "cell_type": "code",
   "execution_count": 49,
   "id": "d529fd7c-2297-4c3f-b1f4-873c0a1a899e",
   "metadata": {},
   "outputs": [],
   "source": [
    "transcriptome_shah = pickle.load(open('../parameters/transcriptome_shah.p', 'rb'))"
   ]
  },
  {
   "cell_type": "code",
   "execution_count": 56,
   "id": "031a7178-5cff-4afe-8cae-040e482d5ad6",
   "metadata": {},
   "outputs": [
    {
     "name": "stdout",
     "output_type": "stream",
     "text": [
      "150000\n",
      "YDR461W 0.053068500127323656\n",
      "YLR388W 0.05006672826198542\n",
      "200000\n",
      "YDR461W 0.057431457431457424\n",
      "YLR388W 0.054819833692639354\n",
      "YDR224C 0.05267884931750478\n",
      "YJL158C 0.05085200746965452\n",
      "250000\n",
      "YDR461W 0.06231219760631525\n",
      "YJL189W 0.052340863881784584\n",
      "YLR388W 0.05866660800445832\n",
      "YDR224C 0.055404383975812536\n",
      "YFL014W 0.050606909430438836\n",
      "YJL158C 0.05416083099906628\n"
     ]
    }
   ],
   "source": [
    "prot_per_transcript_speeds = {}\n",
    "\n",
    "for nribo in results.keys():\n",
    "    print(nribo)\n",
    "    prot_per_transcript_speeds[nribo] = {}\n",
    "    for prot in protnames[nribo]:\n",
    "        start, stop = 599, len(results[nribo]['timecourses'][prot]) - 1  # 599 to exclude the \"burn in\" phase\n",
    "        prot_per_transcript_speeds[nribo][prot] = (results[nribo]['timecourses'][prot][stop] - results[nribo]['timecourses'][prot][start]) / \\\n",
    "            transcriptome_shah[prot] / (1.0 * results[nribo]['timerange'][stop] - results[nribo]['timerange'][start])\n",
    "        if prot_per_transcript_speeds[nribo][prot] > 0.05: \n",
    "            print(prot, prot_per_transcript_speeds[nribo][prot])"
   ]
  },
  {
   "cell_type": "code",
   "execution_count": 66,
   "id": "78e7a08c-3e46-48b8-ad0b-4eca04677f13",
   "metadata": {},
   "outputs": [],
   "source": [
    "def plot_speed_efficiency(prot_speeds, prot_per_transcript_speeds):\n",
    "    plt.rcParams['figure.figsize'] = (12, 5)\n",
    "    plt.rcParams['axes.facecolor'] = 'white'\n",
    "    plt.rcParams['axes.edgecolor'] = 'grey'\n",
    "\n",
    "    fig = plt.figure()\n",
    "    fig.subplots_adjust(wspace=0.35)\n",
    "\n",
    "    ax = fig.add_subplot(121)\n",
    "    n, bins, patches = ax.hist(prot_speeds.values(), \n",
    "                               bins = 10**np.linspace(np.log10(min(prot_speeds.values())+0.0001), \n",
    "                                                      np.log10(max(prot_speeds.values())), 25), \n",
    "                               edgecolor='white')\n",
    "    ax.set_xscale(\"log\")\n",
    "    ax.set_xlim([min(prot_speeds.values())+0.0001, max(prot_speeds.values())])\n",
    "    ax.set_xlabel('Translation speed [proteins/s]', fontsize=16)\n",
    "    ax.set_ylabel('Protein count', fontsize=16)\n",
    "    plt.setp(ax.get_xticklabels(), fontsize=16)\n",
    "    plt.setp(ax.get_yticklabels(), fontsize=16)\n",
    "    plt.text(0.0001, 670, \"A\", fontsize=16, weight=\"bold\")\n",
    "\n",
    "    ax = fig.add_subplot(122)\n",
    "    n, bins, patches = ax.hist(prot_per_transcript_speeds.values(), \n",
    "                               bins = 10**np.linspace(np.log10(min(prot_per_transcript_speeds.values())+0.0001), \n",
    "                                                      np.log10(max(prot_per_transcript_speeds.values())), 32), \n",
    "                               edgecolor='white')\n",
    "    ax.set_xscale(\"log\")\n",
    "    ax.set_xlim([min(prot_per_transcript_speeds.values())+0.002, max(prot_per_transcript_speeds.values())])\n",
    "    ax.set_xlabel('Translation efficiency [proteins/transcript/s]', fontsize=16)\n",
    "    ax.set_ylabel('Protein count', fontsize=16)\n",
    "    plt.setp(ax.get_xticklabels(), fontsize=16)\n",
    "    plt.setp(ax.get_yticklabels(), fontsize=16)\n",
    "    plt.text(0.0009, 600, \"B\", fontsize=16, weight=\"bold\")\n",
    "\n",
    "    #plt.show()\n",
    "    plt.savefig('translation_efficiencies.pdf', bbox_inches='tight')"
   ]
  },
  {
   "cell_type": "markdown",
   "id": "ff4eb274-4907-418e-b323-1d3bf4191bd7",
   "metadata": {},
   "source": [
    "Five-number summary:"
   ]
  },
  {
   "cell_type": "code",
   "execution_count": 74,
   "id": "61a32c59-6c81-4737-9ffc-376c6b86ce3f",
   "metadata": {},
   "outputs": [],
   "source": [
    "def fivenum(data):\n",
    "    \"\"\"Five-number summary.\"\"\"\n",
    "    return np.percentile(list(data), [0, 25, 50, 75, 100], interpolation='midpoint')"
   ]
  },
  {
   "cell_type": "code",
   "execution_count": 82,
   "id": "80808621-d2e7-49c9-b866-09fb5586a747",
   "metadata": {},
   "outputs": [
    {
     "data": {
      "text/plain": [
       "array([150000.00028011, 150000.00952381, 150000.02352974, 150000.07282913,\n",
       "       150038.54789916])"
      ]
     },
     "execution_count": 82,
     "metadata": {},
     "output_type": "execute_result"
    }
   ],
   "source": [
    "[nribo] + fivenum(prot_speeds[nribo].values())"
   ]
  },
  {
   "cell_type": "code",
   "execution_count": 83,
   "id": "23ef5f21-639e-42c5-be8d-0336f192e553",
   "metadata": {},
   "outputs": [
    {
     "name": "stdout",
     "output_type": "stream",
     "text": [
      "Protein speeds:\n",
      "+-----------+------------------------+----------------------+----------------------+---------------------+--------------------+\n",
      "| Ribosomes |          Min           |         25%          |        Median        |         75%         |        Max         |\n",
      "+-----------+------------------------+----------------------+----------------------+---------------------+--------------------+\n",
      "|   150000  | 0.00028011204481792715 | 0.009523809523809523 | 0.02352974131290354  | 0.07282913165266106 | 38.547899159663864 |\n",
      "|   200000  | 0.00028011204481792715 | 0.010364145658263303 | 0.026050420168067225 | 0.08123249299719887 | 42.53949579831932  |\n",
      "|   250000  | 0.00028011204481792715 | 0.011204481792717085 | 0.028011204481792715 | 0.08641456582633052 | 45.90504201680672  |\n",
      "+-----------+------------------------+----------------------+----------------------+---------------------+--------------------+\n"
     ]
    }
   ],
   "source": [
    "print(\"Protein speeds:\")\n",
    "t = PrettyTable([\"Ribosomes\", 'Min', '25%', 'Median', '75%', 'Max'])\n",
    "for nribo in results.keys():\n",
    "    t.add_row([nribo] + list(fivenum(prot_speeds[nribo].values())))\n",
    "print(t)"
   ]
  },
  {
   "cell_type": "code",
   "execution_count": 84,
   "id": "9e1eec95-504c-4180-b2dc-6e57da4a0b10",
   "metadata": {},
   "outputs": [
    {
     "name": "stdout",
     "output_type": "stream",
     "text": [
      "Protein speeds per transcript:\n",
      "+-----------+------------------------+-----------------------+----------------------+----------------------+----------------------+\n",
      "| Ribosomes |          Min           |          25%          |        Median        |         75%          |         Max          |\n",
      "+-----------+------------------------+-----------------------+----------------------+----------------------+----------------------+\n",
      "|   150000  | 8.670134720554888e-05  | 0.0050420168067226885 | 0.007563025210084033 | 0.011344537815126048 | 0.053068500127323656 |\n",
      "|   200000  | 0.00010337468320661597 |  0.005602240896358543 | 0.008403361344537815 | 0.012476043048798466 | 0.057431457431457424 |\n",
      "|   250000  | 0.00014005602240896358 |  0.006018723278785197 | 0.009041520967458305 | 0.013352007469654526 | 0.06231219760631525  |\n",
      "+-----------+------------------------+-----------------------+----------------------+----------------------+----------------------+\n"
     ]
    },
    {
     "data": {
      "image/png": "[encoded data removed]",
      "text/plain": [
       "<Figure size 864x360 with 2 Axes>"
      ]
     },
     "metadata": {
      "needs_background": "light"
     },
     "output_type": "display_data"
    }
   ],
   "source": [
    "print(\"Protein speeds per transcript:\")\n",
    "t = PrettyTable([\"Ribosomes\", 'Min', '25%', 'Median', '75%', 'Max'])\n",
    "for nribo in results.keys():\n",
    "    t.add_row([nribo] + list(fivenum(prot_per_transcript_speeds[nribo].values())))\n",
    "print(t)\n",
    "plot_speed_efficiency(prot_speeds[nribo], prot_per_transcript_speeds[nribo])"
   ]
  },
  {
   "cell_type": "code",
   "execution_count": null,
   "id": "cc55d2e4-bae8-486e-bc62-c21804e4fe5f",
   "metadata": {},
   "outputs": [],
   "source": []
  }
 ],
 "metadata": {
  "kernelspec": {
   "display_name": "Python 3 (ipykernel)",
   "language": "python",
   "name": "python3"
  },
  "language_info": {
   "codemirror_mode": {
    "name": "ipython",
    "version": 3
   },
   "file_extension": ".py",
   "mimetype": "text/x-python",
   "name": "python",
   "nbconvert_exporter": "python",
   "pygments_lexer": "ipython3",
   "version": "3.9.7"
  }
 },
 "nbformat": 4,
 "nbformat_minor": 5
}
