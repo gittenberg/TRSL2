{
 "cells": [
  {
   "cell_type": "code",
   "execution_count": 1,
   "id": "17845e9b",
   "metadata": {},
   "outputs": [],
   "source": [
    "import pickle"
   ]
  },
  {
   "cell_type": "markdown",
   "id": "e2d5e051",
   "metadata": {},
   "source": [
    "To make the `pickle` readable, we must add translation to the `sys.path`:"
   ]
  },
  {
   "cell_type": "code",
   "execution_count": 2,
   "id": "893bfb70",
   "metadata": {},
   "outputs": [],
   "source": [
    "import sys\n",
    "sys.path.append(r'../')\n",
    "sys.path.append(r'../translation/')"
   ]
  },
  {
   "cell_type": "code",
   "execution_count": 3,
   "id": "da5d9023",
   "metadata": {},
   "outputs": [],
   "source": [
    "import translation"
   ]
  },
  {
   "cell_type": "code",
   "execution_count": 4,
   "id": "865bdd75",
   "metadata": {},
   "outputs": [],
   "source": [
    "filepath = \"../results/updated Shah transcriptome, full exome, no decay, updated initiation rates according \"\\\n",
    "           \"to Shah_20211103_1556_20_ribosomes_3600s.p\""
   ]
  },
  {
   "cell_type": "code",
   "execution_count": 5,
   "id": "6e9a6a3f",
   "metadata": {},
   "outputs": [],
   "source": [
    "with open(filepath, 'rb') as f:\n",
    "  results = pickle.load(f)"
   ]
  },
  {
   "cell_type": "code",
   "execution_count": 6,
   "id": "df9b4ccf",
   "metadata": {},
   "outputs": [
    {
     "data": {
      "text/plain": [
       "dict_keys(['proteome', 'peptide_bonds', 'transcriptome', 'timerange', 'timecourses', 'description', 'time_stamp', 'n_ribosomes', 'n_tRNA', 'duration'])"
      ]
     },
     "execution_count": 6,
     "metadata": {},
     "output_type": "execute_result"
    }
   ],
   "source": [
    "results.keys()"
   ]
  },
  {
   "cell_type": "code",
   "execution_count": null,
   "id": "70d7048a",
   "metadata": {},
   "outputs": [],
   "source": []
  }
 ],
 "metadata": {
  "kernelspec": {
   "display_name": "Python 3 (ipykernel)",
   "language": "python",
   "name": "python3"
  },
  "language_info": {
   "codemirror_mode": {
    "name": "ipython",
    "version": 3
   },
   "file_extension": ".py",
   "mimetype": "text/x-python",
   "name": "python",
   "nbconvert_exporter": "python",
   "pygments_lexer": "ipython3",
   "version": "3.9.7"
  }
 },
 "nbformat": 4,
 "nbformat_minor": 5
}
