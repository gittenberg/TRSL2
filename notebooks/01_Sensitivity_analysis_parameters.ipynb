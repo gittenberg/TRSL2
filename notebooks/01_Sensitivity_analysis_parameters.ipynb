{
 "cells": [
  {
   "cell_type": "markdown",
   "id": "2d98dd6a-bb83-4d2e-8983-f41531eb5511",
   "metadata": {},
   "source": [
    "# 01 Sensitivity analysis of model parameters"
   ]
  },
  {
   "cell_type": "code",
   "execution_count": 1,
   "id": "17845e9b",
   "metadata": {},
   "outputs": [],
   "source": [
    "import pickle"
   ]
  },
  {
   "cell_type": "markdown",
   "id": "e2d5e051",
   "metadata": {},
   "source": [
    "To make the `pickle` readable, we must add translation to the `sys.path`:"
   ]
  },
  {
   "cell_type": "code",
   "execution_count": 2,
   "id": "893bfb70",
   "metadata": {},
   "outputs": [],
   "source": [
    "import sys\n",
    "sys.path.append(r'../')\n",
    "sys.path.append(r'../translation/')"
   ]
  },
  {
   "cell_type": "code",
   "execution_count": 3,
   "id": "da5d9023",
   "metadata": {},
   "outputs": [],
   "source": [
    "import translation"
   ]
  },
  {
   "cell_type": "code",
   "execution_count": 4,
   "id": "f93724e2-72b1-4288-aca6-1a99e0577697",
   "metadata": {},
   "outputs": [],
   "source": [
    "filepath = \"../results/updated Shah transcriptome, full exome, no decay, updated initiation rates according to Shah_20211108_1103_20_ribosomes_0120s.p\""
   ]
  },
  {
   "cell_type": "code",
   "execution_count": 5,
   "id": "92f6611f-b77e-46f5-934a-4d7cf76a2b44",
   "metadata": {},
   "outputs": [],
   "source": [
    "with open(filepath, 'rb') as f:\n",
    "    results = pickle.load(f)"
   ]
  },
  {
   "cell_type": "code",
   "execution_count": 6,
   "id": "36d0f274-5d90-48e8-8f25-14902e28a264",
   "metadata": {},
   "outputs": [
    {
     "data": {
      "text/plain": [
       "dict_keys(['proteome', 'peptide_bonds', 'transcriptome', 'timerange', 'timecourses', 'description', 'time_stamp', 'n_ribosomes', 'n_tRNA', 'duration'])"
      ]
     },
     "execution_count": 6,
     "metadata": {},
     "output_type": "execute_result"
    }
   ],
   "source": [
    "results.keys()"
   ]
  },
  {
   "cell_type": "code",
   "execution_count": 7,
   "id": "7925b4db-829c-4a4a-9435-4c96b0703408",
   "metadata": {},
   "outputs": [
    {
     "data": {
      "text/plain": [
       "Counter({'YGL030W': 1,\n",
       "         'YLR325C': 2,\n",
       "         'YPR043W': 2,\n",
       "         'YOR234C': 1,\n",
       "         'YPL037C': 1,\n",
       "         'YAL003W': 2,\n",
       "         'YHR193C': 1,\n",
       "         'YGL103W': 1,\n",
       "         'YLR043C': 1,\n",
       "         'YDR224C': 2,\n",
       "         'YDR382W': 1,\n",
       "         'YKL152C': 2,\n",
       "         'YLR075W': 3,\n",
       "         'YOL086C': 1,\n",
       "         'YLR340W': 1,\n",
       "         'YNL145W': 1,\n",
       "         'YLR293C': 1,\n",
       "         'YAL038W': 3,\n",
       "         'YPL131W': 1,\n",
       "         'YKL081W': 1,\n",
       "         'YOR293W': 2,\n",
       "         'YAL012W': 1,\n",
       "         'YKL216W': 1,\n",
       "         'YOR369C': 1,\n",
       "         'YJR123W': 2,\n",
       "         'YGL123W': 1,\n",
       "         'YOL039W': 1,\n",
       "         'YDR500C': 1,\n",
       "         'YOL109W': 1,\n",
       "         'YNL135C': 1,\n",
       "         'YHR001W': 1,\n",
       "         'YDL007W': 1,\n",
       "         'YOR020C': 1,\n",
       "         'YHR020W': 1,\n",
       "         'YDL055C': 1,\n",
       "         'YBR011C': 1,\n",
       "         'YOR065W': 1,\n",
       "         'YBL045C': 1,\n",
       "         'YNL178W': 1,\n",
       "         'YML008C': 1,\n",
       "         'YNL069C': 1,\n",
       "         'YBL058W': 1,\n",
       "         'YNL307C': 1,\n",
       "         'YMR209C': 1,\n",
       "         'YLR109W': 1,\n",
       "         'YLR197W': 1,\n",
       "         'YOR167C': 1,\n",
       "         'YIL133C': 1,\n",
       "         'YGL008C': 1,\n",
       "         'YKL060C': 1,\n",
       "         'YDR514C': 1,\n",
       "         'YLR044C': 1,\n",
       "         'YJL189W': 1,\n",
       "         'YOR362C': 1,\n",
       "         'YOR096W': 1})"
      ]
     },
     "execution_count": 7,
     "metadata": {},
     "output_type": "execute_result"
    }
   ],
   "source": [
    "results['proteome']"
   ]
  },
  {
   "cell_type": "code",
   "execution_count": 8,
   "id": "659c562c-65d6-4983-a3fa-46ed99fcd4da",
   "metadata": {},
   "outputs": [
    {
     "data": {
      "text/plain": [
       "20772"
      ]
     },
     "execution_count": 8,
     "metadata": {},
     "output_type": "execute_result"
    }
   ],
   "source": [
    "results['peptide_bonds']"
   ]
  },
  {
   "cell_type": "code",
   "execution_count": 9,
   "id": "0766d21b-7e0a-4b96-841b-6b98a348568a",
   "metadata": {},
   "outputs": [
    {
     "data": {
      "text/plain": [
       "57508"
      ]
     },
     "execution_count": 9,
     "metadata": {},
     "output_type": "execute_result"
    }
   ],
   "source": [
    "len(results['transcriptome'])"
   ]
  },
  {
   "cell_type": "code",
   "execution_count": 10,
   "id": "ecf933fa-aada-45d4-956f-8bbf46bbb814",
   "metadata": {},
   "outputs": [
    {
     "data": {
      "text/plain": [
       "array([0.0000e+00, 5.0000e-02, 1.0000e-01, ..., 1.1985e+02, 1.1990e+02,\n",
       "       1.1995e+02])"
      ]
     },
     "execution_count": 10,
     "metadata": {},
     "output_type": "execute_result"
    }
   ],
   "source": [
    "results['timerange']"
   ]
  },
  {
   "cell_type": "code",
   "execution_count": 11,
   "id": "3eab7534-2fcb-4441-a198-4e565b0d115e",
   "metadata": {},
   "outputs": [
    {
     "data": {
      "text/plain": [
       "dict_keys(['proteins', 'ribos._bound', 'ribos._free', 'tRNA_bound', 'tRNA_free', 'ATP', 'AMP', 'GTP', 'GDP', 'peptide_bonds', 'tRNA_free_01', 'tRNA_free_02', 'tRNA_free_03', 'tRNA_free_04', 'tRNA_free_05', 'tRNA_free_06', 'tRNA_free_07', 'tRNA_free_08', 'tRNA_free_09', 'tRNA_free_10', 'tRNA_free_11', 'tRNA_free_12', 'tRNA_free_13', 'tRNA_free_14', 'tRNA_free_15', 'tRNA_free_16', 'tRNA_free_17', 'tRNA_free_18', 'tRNA_free_19', 'tRNA_free_20', 'tRNA_free_21', 'tRNA_free_22', 'tRNA_free_23', 'tRNA_free_24', 'tRNA_free_25', 'tRNA_free_27', 'tRNA_free_28', 'tRNA_free_29', 'tRNA_free_30', 'tRNA_free_31', 'tRNA_free_32', 'tRNA_free_33', 'tRNA_free_34', 'tRNA_free_35', 'tRNA_free_36', 'tRNA_free_37', 'tRNA_free_38', 'tRNA_free_39', 'tRNA_free_40', 'tRNA_free_41', 'tRNA_free_42', 'tRNA_free_43', 'YGL030W', 'YLR325C', 'YPR043W', 'YOR234C', 'YPL037C', 'YAL003W', 'YHR193C', 'YGL103W', 'YLR043C', 'YDR224C', 'YDR382W', 'YKL152C', 'YLR075W', 'YOL086C', 'YLR340W', 'YNL145W', 'YLR293C', 'YAL038W', 'YPL131W', 'YKL081W', 'YOR293W', 'YAL012W', 'YKL216W', 'YOR369C', 'YJR123W', 'YGL123W', 'YOL039W', 'YDR500C', 'YOL109W', 'YNL135C', 'YHR001W', 'YDL007W', 'YOR020C', 'YHR020W', 'YDL055C', 'YBR011C', 'YOR065W', 'YBL045C', 'YNL178W', 'YML008C', 'YNL069C', 'YBL058W', 'YNL307C', 'YMR209C', 'YLR109W', 'YLR197W', 'YOR167C', 'YIL133C', 'YGL008C', 'YKL060C', 'YDR514C', 'YLR044C', 'YJL189W', 'YOR362C', 'YOR096W'])"
      ]
     },
     "execution_count": 11,
     "metadata": {},
     "output_type": "execute_result"
    }
   ],
   "source": [
    "results['timecourses'].keys()"
   ]
  },
  {
   "cell_type": "code",
   "execution_count": 12,
   "id": "ebb37aea-fda6-4b6a-8088-957ad4db6af2",
   "metadata": {},
   "outputs": [
    {
     "data": {
      "text/plain": [
       "'updated Shah transcriptome, full exome, no decay, updated initiation rates according to Shah'"
      ]
     },
     "execution_count": 12,
     "metadata": {},
     "output_type": "execute_result"
    }
   ],
   "source": [
    "results['description']"
   ]
  },
  {
   "cell_type": "code",
   "execution_count": 13,
   "id": "f8067080-f01f-45c3-96e0-b6c22770b5d4",
   "metadata": {},
   "outputs": [
    {
     "data": {
      "text/plain": [
       "'20211108_1103'"
      ]
     },
     "execution_count": 13,
     "metadata": {},
     "output_type": "execute_result"
    }
   ],
   "source": [
    "results['time_stamp']"
   ]
  },
  {
   "cell_type": "code",
   "execution_count": 14,
   "id": "8da2c38c-612d-44ff-9991-aca68d98e5e7",
   "metadata": {},
   "outputs": [
    {
     "data": {
      "text/plain": [
       "20"
      ]
     },
     "execution_count": 14,
     "metadata": {},
     "output_type": "execute_result"
    }
   ],
   "source": [
    "results['n_ribosomes']"
   ]
  },
  {
   "cell_type": "code",
   "execution_count": 15,
   "id": "d3a55ec3-4aa9-4d16-be88-5c8fb01d8f96",
   "metadata": {},
   "outputs": [
    {
     "data": {
      "text/plain": [
       "2984788"
      ]
     },
     "execution_count": 15,
     "metadata": {},
     "output_type": "execute_result"
    }
   ],
   "source": [
    "results['n_tRNA']"
   ]
  },
  {
   "cell_type": "code",
   "execution_count": 16,
   "id": "3598ed68-cfd8-4e55-b5f7-c5f3dcc8b9d8",
   "metadata": {},
   "outputs": [
    {
     "data": {
      "text/plain": [
       "120.95"
      ]
     },
     "execution_count": 16,
     "metadata": {},
     "output_type": "execute_result"
    }
   ],
   "source": [
    "results['duration']"
   ]
  },
  {
   "cell_type": "code",
   "execution_count": null,
   "id": "b73e9df4-c97e-4f28-9b8c-5a1c62778112",
   "metadata": {},
   "outputs": [],
   "source": []
  },
  {
   "cell_type": "code",
   "execution_count": null,
   "id": "a108ef1c-e324-450e-91d5-44a379288583",
   "metadata": {},
   "outputs": [],
   "source": []
  },
  {
   "cell_type": "code",
   "execution_count": null,
   "id": "93f4430d-53bd-4a5a-b873-00cf95f49454",
   "metadata": {},
   "outputs": [],
   "source": []
  },
  {
   "cell_type": "markdown",
   "id": "b4b6db74-0528-48cf-b1d1-4a51d8394262",
   "metadata": {},
   "source": [
    "## A. Ribosome count"
   ]
  },
  {
   "cell_type": "code",
   "execution_count": 5,
   "id": "865bdd75",
   "metadata": {},
   "outputs": [],
   "source": [
    "filepath = {150000: \"../results/updated Shah transcriptome, full exome, no decay, updated initiation rates according to Shah_20211106_0316_150000_ribosomes_3600s.p\",\n",
    "            200000: \"../results/updated Shah transcriptome, full exome, no decay, updated initiation rates according to Shah_20211105_1049_200000_ribosomes_3600s.p\",            \n",
    "            250000: \"../results/updated Shah transcriptome, full exome, no decay, updated initiation rates according to Shah_20211106_2335_250000_ribosomes_3600s.p\"}"
   ]
  },
  {
   "cell_type": "code",
   "execution_count": 7,
   "id": "6e9a6a3f",
   "metadata": {},
   "outputs": [
    {
     "name": "stdout",
     "output_type": "stream",
     "text": [
      "150000\n",
      "200000\n",
      "250000\n"
     ]
    }
   ],
   "source": [
    "results = {}\n",
    "for ribocount in filepath.keys():\n",
    "    with open(filepath[ribocount], 'rb') as f:\n",
    "        print(ribocount)\n",
    "        results[ribocount] = pickle.load(f)"
   ]
  },
  {
   "cell_type": "code",
   "execution_count": 8,
   "id": "df9b4ccf",
   "metadata": {},
   "outputs": [
    {
     "data": {
      "text/plain": [
       "dict_keys([150000, 200000, 250000])"
      ]
     },
     "execution_count": 8,
     "metadata": {},
     "output_type": "execute_result"
    }
   ],
   "source": [
    "results.keys()"
   ]
  },
  {
   "cell_type": "code",
   "execution_count": 9,
   "id": "70d7048a",
   "metadata": {},
   "outputs": [
    {
     "data": {
      "text/plain": [
       "dict_keys(['proteome', 'peptide_bonds', 'transcriptome', 'timerange', 'timecourses', 'description', 'time_stamp', 'n_ribosomes', 'n_tRNA', 'duration'])"
      ]
     },
     "execution_count": 9,
     "metadata": {},
     "output_type": "execute_result"
    }
   ],
   "source": [
    "results[150000].keys()"
   ]
  },
  {
   "cell_type": "code",
   "execution_count": 32,
   "id": "87c8175f-82bf-4eca-83f9-c112d59af258",
   "metadata": {},
   "outputs": [
    {
     "data": {
      "text/plain": [
       "dict_keys(['proteins', 'ribos._bound', 'ribos._free', 'tRNA_bound', 'tRNA_free', 'ATP', 'AMP', 'GTP', 'GDP', 'peptide_bonds', 'tRNA_free_01', 'tRNA_free_02', 'tRNA_free_03', 'tRNA_free_04', 'tRNA_free_05', 'tRNA_free_06', 'tRNA_free_07', 'tRNA_free_08', 'tRNA_free_09', 'tRNA_free_10', 'tRNA_free_11', 'tRNA_free_12', 'tRNA_free_13', 'tRNA_free_14', 'tRNA_free_15', 'tRNA_free_16', 'tRNA_free_17', 'tRNA_free_18', 'tRNA_free_19', 'tRNA_free_20', 'tRNA_free_21', 'tRNA_free_22', 'tRNA_free_23', 'tRNA_free_24', 'tRNA_free_25', 'tRNA_free_27', 'tRNA_free_28', 'tRNA_free_29', 'tRNA_free_30', 'tRNA_free_31', 'tRNA_free_32', 'tRNA_free_33', 'tRNA_free_34', 'tRNA_free_35', 'tRNA_free_36', 'tRNA_free_37', 'tRNA_free_38', 'tRNA_free_39', 'tRNA_free_40', 'tRNA_free_41', 'tRNA_free_42', 'tRNA_free_43'])"
      ]
     },
     "execution_count": 32,
     "metadata": {},
     "output_type": "execute_result"
    }
   ],
   "source": [
    "results[200000][\"timecourses\"].keys()"
   ]
  },
  {
   "cell_type": "code",
   "execution_count": 25,
   "id": "06879241-8b65-4164-abe9-ac6a520a5e77",
   "metadata": {},
   "outputs": [
    {
     "name": "stdout",
     "output_type": "stream",
     "text": [
      "150000\n",
      "200000\n",
      "250000\n"
     ]
    }
   ],
   "source": [
    "protnames = {}\n",
    "blacklist = ['ribos._bound', 'ribos._free', 'tRNA_free', 'tRNA_bound', 'ATP', 'GTP', 'AMP', 'GDP', 'protein']\n",
    "\n",
    "for ribocount in results.keys():\n",
    "    print(ribocount)\n",
    "    protnames[ribocount] = results[ribocount]['timecourses'].keys()\n",
    "    for fragment in blacklist:\n",
    "        # TODO: perhaps better with filter\n",
    "        protnames[ribocount] = [name for name in protnames[ribocount] if fragment not in name]"
   ]
  },
  {
   "cell_type": "code",
   "execution_count": 26,
   "id": "3a0e7b45-e6e7-4213-a919-a61c2de84ff7",
   "metadata": {},
   "outputs": [
    {
     "data": {
      "text/plain": [
       "['peptide_bonds']"
      ]
     },
     "execution_count": 26,
     "metadata": {},
     "output_type": "execute_result"
    }
   ],
   "source": [
    "protnames[150000]"
   ]
  },
  {
   "cell_type": "code",
   "execution_count": 29,
   "id": "08fca4f2-a8f4-4ebd-b582-8e98b47e9e18",
   "metadata": {},
   "outputs": [
    {
     "data": {
      "text/plain": [
       "dict_keys(['proteins', 'ribos._bound', 'ribos._free', 'tRNA_bound', 'tRNA_free', 'ATP', 'AMP', 'GTP', 'GDP', 'peptide_bonds', 'tRNA_free_01', 'tRNA_free_02', 'tRNA_free_03', 'tRNA_free_04', 'tRNA_free_05', 'tRNA_free_06', 'tRNA_free_07', 'tRNA_free_08', 'tRNA_free_09', 'tRNA_free_10', 'tRNA_free_11', 'tRNA_free_12', 'tRNA_free_13', 'tRNA_free_14', 'tRNA_free_15', 'tRNA_free_16', 'tRNA_free_17', 'tRNA_free_18', 'tRNA_free_19', 'tRNA_free_20', 'tRNA_free_21', 'tRNA_free_22', 'tRNA_free_23', 'tRNA_free_24', 'tRNA_free_25', 'tRNA_free_27', 'tRNA_free_28', 'tRNA_free_29', 'tRNA_free_30', 'tRNA_free_31', 'tRNA_free_32', 'tRNA_free_33', 'tRNA_free_34', 'tRNA_free_35', 'tRNA_free_36', 'tRNA_free_37', 'tRNA_free_38', 'tRNA_free_39', 'tRNA_free_40', 'tRNA_free_41', 'tRNA_free_42', 'tRNA_free_43'])"
      ]
     },
     "execution_count": 29,
     "metadata": {},
     "output_type": "execute_result"
    }
   ],
   "source": [
    "results[250000]['timecourses'].keys()"
   ]
  },
  {
   "cell_type": "code",
   "execution_count": null,
   "id": "890e935a-bfd6-457a-a24f-fa8b42a57e21",
   "metadata": {},
   "outputs": [],
   "source": []
  }
 ],
 "metadata": {
  "kernelspec": {
   "display_name": "Python 3 (ipykernel)",
   "language": "python",
   "name": "python3"
  },
  "language_info": {
   "codemirror_mode": {
    "name": "ipython",
    "version": 3
   },
   "file_extension": ".py",
   "mimetype": "text/x-python",
   "name": "python",
   "nbconvert_exporter": "python",
   "pygments_lexer": "ipython3",
   "version": "3.9.0"
  }
 },
 "nbformat": 4,
 "nbformat_minor": 5
}
