{
 "cells": [
  {
   "cell_type": "markdown",
   "id": "6282449a-8bf7-420f-9f9d-174625d1dfdc",
   "metadata": {},
   "source": [
    "# Create time-resolved transcriptome dicts"
   ]
  },
  {
   "cell_type": "markdown",
   "id": "78ac6f75-f1a9-4af1-abde-59aba857e75f",
   "metadata": {},
   "source": [
    "This workbook imports the \"absolute\" time-dependent transcriptome that was calculated by integrating the FISH experiments by Aouefa/Lotte with the RNAseq experiments by Lotte.\n",
    "\n",
    "Results are pickled for use in the TRSL workflow.\n",
    "\n",
    "04 August 2016: updated to include two extra genes by Wiebke\n",
    "\n",
    "07 March 2019: updated to include new cell cycle phase definitions from Lotte/Katja paper"
   ]
  },
  {
   "cell_type": "markdown",
   "id": "37f9ae00-1122-4719-a717-7151fb1972f0",
   "metadata": {},
   "source": [
    "## 1. Imports"
   ]
  },
  {
   "cell_type": "code",
   "execution_count": 1,
   "id": "9da7a147-203a-4e11-a5e3-772b51efdd1b",
   "metadata": {},
   "outputs": [],
   "source": [
    "import math\n",
    "import pandas as pd\n",
    "import pickle as pkl"
   ]
  },
  {
   "cell_type": "markdown",
   "id": "6e6a04df-0851-4ee7-afeb-006666f0cf88",
   "metadata": {},
   "source": [
    "# 2. Load data"
   ]
  },
  {
   "cell_type": "code",
   "execution_count": 2,
   "id": "9dbf8d59-e32c-413d-8a85-122c8318625a",
   "metadata": {},
   "outputs": [],
   "source": [
    "transcript_file = '../data/FISH_RNAseq_combined_FACS_phases_7_genes_new_CC_phases.xlsx'"
   ]
  },
  {
   "cell_type": "code",
   "execution_count": 3,
   "id": "417f0ac6-577c-4af0-a357-a7afb3285451",
   "metadata": {},
   "outputs": [],
   "source": [
    "transcript_data = pd.read_excel(transcript_file, sheet_name='nostress_WT_R1_rounded', skiprows=1, skipfooter=2, usecols='A, D:P', engine='openpyxl')"
   ]
  },
  {
   "cell_type": "code",
   "execution_count": 4,
   "id": "2da87e04-ed0e-46b8-922c-3bd47e44b2a1",
   "metadata": {},
   "outputs": [],
   "source": [
    "with open(\"../parameters/orf_coding.p\", \"rb\") as f:\n",
    "    orf_genomic_dict = pkl.load(f)\n",
    "\n",
    "systematic = []\n",
    "for gene in transcript_data['Gene']:\n",
    "    try:\n",
    "        systematic.append(sg.systematic_name(gene))\n",
    "    except:\n",
    "        systematic.append(gene)\n",
    "    \n",
    "transcript_data['systematic'] = pd.Series(systematic)"
   ]
  },
  {
   "cell_type": "code",
   "execution_count": 5,
   "id": "0aadbbcf-3a9c-4f2b-9401-afaaa1dc730f",
   "metadata": {},
   "outputs": [
    {
     "data": {
      "text/html": [
       "<div>\n",
       "<style scoped>\n",
       "    .dataframe tbody tr th:only-of-type {\n",
       "        vertical-align: middle;\n",
       "    }\n",
       "\n",
       "    .dataframe tbody tr th {\n",
       "        vertical-align: top;\n",
       "    }\n",
       "\n",
       "    .dataframe thead th {\n",
       "        text-align: right;\n",
       "    }\n",
       "</style>\n",
       "<table border=\"1\" class=\"dataframe\">\n",
       "  <thead>\n",
       "    <tr style=\"text-align: right;\">\n",
       "      <th></th>\n",
       "      <th>Gene</th>\n",
       "      <th>0</th>\n",
       "      <th>5</th>\n",
       "      <th>10</th>\n",
       "      <th>15</th>\n",
       "      <th>20</th>\n",
       "      <th>25</th>\n",
       "      <th>30</th>\n",
       "      <th>35</th>\n",
       "      <th>40</th>\n",
       "      <th>45</th>\n",
       "      <th>50</th>\n",
       "      <th>55</th>\n",
       "      <th>60</th>\n",
       "      <th>systematic</th>\n",
       "    </tr>\n",
       "  </thead>\n",
       "  <tbody>\n",
       "    <tr>\n",
       "      <th>0</th>\n",
       "      <td>YAL001C</td>\n",
       "      <td>1.0</td>\n",
       "      <td>2.0</td>\n",
       "      <td>2.0</td>\n",
       "      <td>2.0</td>\n",
       "      <td>2.0</td>\n",
       "      <td>1.0</td>\n",
       "      <td>1.0</td>\n",
       "      <td>0.0</td>\n",
       "      <td>1.0</td>\n",
       "      <td>1.0</td>\n",
       "      <td>0.0</td>\n",
       "      <td>1.0</td>\n",
       "      <td>1.0</td>\n",
       "      <td>YAL001C</td>\n",
       "    </tr>\n",
       "    <tr>\n",
       "      <th>1</th>\n",
       "      <td>YAL002W</td>\n",
       "      <td>2.0</td>\n",
       "      <td>0.0</td>\n",
       "      <td>2.0</td>\n",
       "      <td>2.0</td>\n",
       "      <td>2.0</td>\n",
       "      <td>1.0</td>\n",
       "      <td>1.0</td>\n",
       "      <td>1.0</td>\n",
       "      <td>1.0</td>\n",
       "      <td>1.0</td>\n",
       "      <td>0.0</td>\n",
       "      <td>1.0</td>\n",
       "      <td>1.0</td>\n",
       "      <td>YAL002W</td>\n",
       "    </tr>\n",
       "    <tr>\n",
       "      <th>2</th>\n",
       "      <td>YAL003W</td>\n",
       "      <td>53.0</td>\n",
       "      <td>42.0</td>\n",
       "      <td>83.0</td>\n",
       "      <td>89.0</td>\n",
       "      <td>88.0</td>\n",
       "      <td>38.0</td>\n",
       "      <td>38.0</td>\n",
       "      <td>39.0</td>\n",
       "      <td>27.0</td>\n",
       "      <td>47.0</td>\n",
       "      <td>23.0</td>\n",
       "      <td>46.0</td>\n",
       "      <td>31.0</td>\n",
       "      <td>YAL003W</td>\n",
       "    </tr>\n",
       "    <tr>\n",
       "      <th>3</th>\n",
       "      <td>YAL004W</td>\n",
       "      <td>0.0</td>\n",
       "      <td>0.0</td>\n",
       "      <td>0.0</td>\n",
       "      <td>0.0</td>\n",
       "      <td>0.0</td>\n",
       "      <td>0.0</td>\n",
       "      <td>0.0</td>\n",
       "      <td>0.0</td>\n",
       "      <td>0.0</td>\n",
       "      <td>0.0</td>\n",
       "      <td>0.0</td>\n",
       "      <td>0.0</td>\n",
       "      <td>0.0</td>\n",
       "      <td>YAL004W</td>\n",
       "    </tr>\n",
       "    <tr>\n",
       "      <th>4</th>\n",
       "      <td>YAL005C</td>\n",
       "      <td>79.0</td>\n",
       "      <td>71.0</td>\n",
       "      <td>107.0</td>\n",
       "      <td>81.0</td>\n",
       "      <td>86.0</td>\n",
       "      <td>31.0</td>\n",
       "      <td>35.0</td>\n",
       "      <td>37.0</td>\n",
       "      <td>41.0</td>\n",
       "      <td>34.0</td>\n",
       "      <td>26.0</td>\n",
       "      <td>46.0</td>\n",
       "      <td>30.0</td>\n",
       "      <td>YAL005C</td>\n",
       "    </tr>\n",
       "  </tbody>\n",
       "</table>\n",
       "</div>"
      ],
      "text/plain": [
       "      Gene     0     5     10    15    20    25    30    35    40    45    50  \\\n",
       "0  YAL001C   1.0   2.0    2.0   2.0   2.0   1.0   1.0   0.0   1.0   1.0   0.0   \n",
       "1  YAL002W   2.0   0.0    2.0   2.0   2.0   1.0   1.0   1.0   1.0   1.0   0.0   \n",
       "2  YAL003W  53.0  42.0   83.0  89.0  88.0  38.0  38.0  39.0  27.0  47.0  23.0   \n",
       "3  YAL004W   0.0   0.0    0.0   0.0   0.0   0.0   0.0   0.0   0.0   0.0   0.0   \n",
       "4  YAL005C  79.0  71.0  107.0  81.0  86.0  31.0  35.0  37.0  41.0  34.0  26.0   \n",
       "\n",
       "     55    60 systematic  \n",
       "0   1.0   1.0    YAL001C  \n",
       "1   1.0   1.0    YAL002W  \n",
       "2  46.0  31.0    YAL003W  \n",
       "3   0.0   0.0    YAL004W  \n",
       "4  46.0  30.0    YAL005C  "
      ]
     },
     "execution_count": 5,
     "metadata": {},
     "output_type": "execute_result"
    }
   ],
   "source": [
    "transcript_data.head()"
   ]
  },
  {
   "cell_type": "code",
   "execution_count": 6,
   "id": "4579db8d-3d37-4f14-aa70-3a88b15626ff",
   "metadata": {},
   "outputs": [],
   "source": [
    "transcriptome_time_dependent = {}\n",
    "\n",
    "for t in range(0, 61, 5):\n",
    "    transcriptome_time_dependent[t] = pd.Series([int(val) if not math.isnan(val) else 0 for val in transcript_data[t].values], index=transcript_data['systematic']).to_dict()"
   ]
  },
  {
   "cell_type": "code",
   "execution_count": 7,
   "id": "beb32a98-f343-4e47-bb65-4d57c3bdb563",
   "metadata": {},
   "outputs": [
    {
     "name": "stdout",
     "output_type": "stream",
     "text": [
      "6651\n"
     ]
    }
   ],
   "source": [
    "print(len(transcriptome_time_dependent[5])) "
   ]
  },
  {
   "cell_type": "code",
   "execution_count": 8,
   "id": "3ff47a35-d82a-4376-b2bf-eb18234daedb",
   "metadata": {},
   "outputs": [],
   "source": [
    "pkl.dump(transcriptome_time_dependent, open(\"../parameters/transcriptome_time_dependent_v2.p\", \"wb\"))"
   ]
  },
  {
   "cell_type": "code",
   "execution_count": null,
   "id": "34764078-cfa2-429b-9d21-f116a3156dfe",
   "metadata": {},
   "outputs": [],
   "source": []
  }
 ],
 "metadata": {
  "kernelspec": {
   "display_name": "Python 3 (ipykernel)",
   "language": "python",
   "name": "python3"
  },
  "language_info": {
   "codemirror_mode": {
    "name": "ipython",
    "version": 3
   },
   "file_extension": ".py",
   "mimetype": "text/x-python",
   "name": "python",
   "nbconvert_exporter": "python",
   "pygments_lexer": "ipython3",
   "version": "3.9.0"
  }
 },
 "nbformat": 4,
 "nbformat_minor": 5
}
