{
 "cells": [
  {
   "cell_type": "markdown",
   "id": "5c9af6ce-2132-4f73-9e03-4602af92b260",
   "metadata": {},
   "source": [
    "# 03 Analysis of histone dynamics"
   ]
  },
  {
   "cell_type": "markdown",
   "id": "2193a7ce-7d11-4f44-9202-aeb7b5cca6af",
   "metadata": {},
   "source": [
    "## 1. Imports"
   ]
  },
  {
   "cell_type": "code",
   "execution_count": 1,
   "id": "10c9e843-80c3-4cd6-9d6b-d5778edbf529",
   "metadata": {},
   "outputs": [],
   "source": [
    "import pandas as pd"
   ]
  },
  {
   "cell_type": "markdown",
   "id": "68abea25-b424-4067-ba76-ebd920216560",
   "metadata": {},
   "source": [
    "## 2. Load data"
   ]
  },
  {
   "cell_type": "code",
   "execution_count": 2,
   "id": "22ef5a2e-5744-4929-bdc0-4845c679c4e7",
   "metadata": {},
   "outputs": [],
   "source": [
    "time_tes = pd.read_pickle(\"../parameters/te_time-resolved.p\") # pkl.load(open(\"../../parameters/te_time-resolved.p\"))"
   ]
  },
  {
   "cell_type": "code",
   "execution_count": 3,
   "id": "e2197599-a7e7-462c-829e-6350c0118751",
   "metadata": {},
   "outputs": [],
   "source": [
    "init_rates = pd.read_pickle(\"../parameters/init_rates_plotkin.p\") # pkl.load(open(\"../../parameters/init_rates_plotkin.p\"))"
   ]
  },
  {
   "cell_type": "markdown",
   "id": "e635b076-10d2-4d78-b7f0-41ca1d58101c",
   "metadata": {},
   "source": [
    "## 3. Histones"
   ]
  },
  {
   "cell_type": "code",
   "execution_count": null,
   "id": "15f72ed8-4191-4ca2-893c-2a56f4ca354f",
   "metadata": {},
   "outputs": [],
   "source": []
  },
  {
   "cell_type": "code",
   "execution_count": null,
   "id": "53a71fa1-744d-4842-8e1a-a5b5948eb5b6",
   "metadata": {},
   "outputs": [],
   "source": []
  }
 ],
 "metadata": {
  "kernelspec": {
   "display_name": "Python 3 (ipykernel)",
   "language": "python",
   "name": "python3"
  },
  "language_info": {
   "codemirror_mode": {
    "name": "ipython",
    "version": 3
   },
   "file_extension": ".py",
   "mimetype": "text/x-python",
   "name": "python",
   "nbconvert_exporter": "python",
   "pygments_lexer": "ipython3",
   "version": "3.9.0"
  }
 },
 "nbformat": 4,
 "nbformat_minor": 5
}
