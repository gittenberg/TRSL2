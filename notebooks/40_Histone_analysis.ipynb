{
 "cells": [
  {
   "cell_type": "markdown",
   "id": "5c9af6ce-2132-4f73-9e03-4602af92b260",
   "metadata": {},
   "source": [
    "# 03 Analysis of histone dynamics"
   ]
  },
  {
   "cell_type": "markdown",
   "id": "2193a7ce-7d11-4f44-9202-aeb7b5cca6af",
   "metadata": {},
   "source": [
    "## 1. Imports"
   ]
  },
  {
   "cell_type": "code",
   "execution_count": 15,
   "id": "10c9e843-80c3-4cd6-9d6b-d5778edbf529",
   "metadata": {},
   "outputs": [],
   "source": [
    "import pandas as pd\n",
    "import pickle as pkl"
   ]
  },
  {
   "cell_type": "markdown",
   "id": "68abea25-b424-4067-ba76-ebd920216560",
   "metadata": {},
   "source": [
    "## 2. Load data"
   ]
  },
  {
   "cell_type": "code",
   "execution_count": 4,
   "id": "865ed27b-43e9-4bbe-91da-6aed3de6dfef",
   "metadata": {},
   "outputs": [],
   "source": [
    "mRNA_file = \"../data/FISH_RNAseq_combined_FACS_phases_7_genes_new_CC_phases.xlsx\""
   ]
  },
  {
   "cell_type": "markdown",
   "id": "28f2ec53-fb7c-4284-87cc-e4db0c3e7ef4",
   "metadata": {},
   "source": [
    "Relative mRNAs (Lotte's RNAseq data, normalized at each time point):"
   ]
  },
  {
   "cell_type": "code",
   "execution_count": 10,
   "id": "356e8fce-4dd2-4387-a523-41b74f4c4f84",
   "metadata": {},
   "outputs": [],
   "source": [
    "mRNA_rel = pd.read_excel(mRNA_file, sheet_name=\"nostress_WT_R1_normalized\", skiprows=1, usecols='A, D:P')"
   ]
  },
  {
   "cell_type": "markdown",
   "id": "c1e7a110-795e-4cbc-8eb6-4b5407036457",
   "metadata": {},
   "source": [
    "Get systematic names from another sheet:"
   ]
  },
  {
   "cell_type": "code",
   "execution_count": 32,
   "id": "7a7c398a-e475-475f-8a06-7b27174d845d",
   "metadata": {},
   "outputs": [],
   "source": [
    "systematic_names = pd.read_excel(mRNA_file, sheet_name=\"nostress_WT_R1_absolute\", skiprows=1, usecols='A', skipfooter=2)\n",
    "systematic_names.rename(columns={\"ORF (Yoav))\": \"systematic\"}, inplace=True)"
   ]
  },
  {
   "cell_type": "code",
   "execution_count": 11,
   "id": "22ef5a2e-5744-4929-bdc0-4845c679c4e7",
   "metadata": {},
   "outputs": [],
   "source": [
    "# time_tes = pd.read_pickle(\"../parameters/te_time-resolved.p\") # pkl.load(open(\"../../parameters/te_time-resolved.p\"))"
   ]
  },
  {
   "cell_type": "code",
   "execution_count": 12,
   "id": "e2197599-a7e7-462c-829e-6350c0118751",
   "metadata": {},
   "outputs": [],
   "source": [
    "# init_rates = pd.read_pickle(\"../parameters/init_rates_plotkin.p\") # pkl.load(open(\"../../parameters/init_rates_plotkin.p\"))"
   ]
  },
  {
   "cell_type": "code",
   "execution_count": 34,
   "id": "bbfa7719-cc19-4fa2-99df-315f7ffeca54",
   "metadata": {},
   "outputs": [],
   "source": [
    "mRNA_rel['systematic'] = systematic_names['systematic']"
   ]
  },
  {
   "cell_type": "code",
   "execution_count": 37,
   "id": "b496b9fa-7a3d-4829-a86a-1f73da47856e",
   "metadata": {},
   "outputs": [
    {
     "data": {
      "text/html": [
       "<div>\n",
       "<style scoped>\n",
       "    .dataframe tbody tr th:only-of-type {\n",
       "        vertical-align: middle;\n",
       "    }\n",
       "\n",
       "    .dataframe tbody tr th {\n",
       "        vertical-align: top;\n",
       "    }\n",
       "\n",
       "    .dataframe thead th {\n",
       "        text-align: right;\n",
       "    }\n",
       "</style>\n",
       "<table border=\"1\" class=\"dataframe\">\n",
       "  <thead>\n",
       "    <tr style=\"text-align: right;\">\n",
       "      <th></th>\n",
       "      <th>Gene</th>\n",
       "      <th>0</th>\n",
       "      <th>5</th>\n",
       "      <th>10</th>\n",
       "      <th>15</th>\n",
       "      <th>20</th>\n",
       "      <th>25</th>\n",
       "      <th>30</th>\n",
       "      <th>35</th>\n",
       "      <th>40</th>\n",
       "      <th>45</th>\n",
       "      <th>50</th>\n",
       "      <th>55</th>\n",
       "      <th>60</th>\n",
       "      <th>systematic</th>\n",
       "    </tr>\n",
       "  </thead>\n",
       "  <tbody>\n",
       "    <tr>\n",
       "      <th>0</th>\n",
       "      <td>TFC3</td>\n",
       "      <td>0.000013</td>\n",
       "      <td>0.000054</td>\n",
       "      <td>0.000032</td>\n",
       "      <td>0.000024</td>\n",
       "      <td>0.000029</td>\n",
       "      <td>0.000031</td>\n",
       "      <td>0.000026</td>\n",
       "      <td>0.000012</td>\n",
       "      <td>0.000030</td>\n",
       "      <td>0.000025</td>\n",
       "      <td>0.000017</td>\n",
       "      <td>0.000035</td>\n",
       "      <td>0.000036</td>\n",
       "      <td>YAL001C</td>\n",
       "    </tr>\n",
       "    <tr>\n",
       "      <th>1</th>\n",
       "      <td>VPS8</td>\n",
       "      <td>0.000042</td>\n",
       "      <td>0.000005</td>\n",
       "      <td>0.000025</td>\n",
       "      <td>0.000024</td>\n",
       "      <td>0.000021</td>\n",
       "      <td>0.000025</td>\n",
       "      <td>0.000030</td>\n",
       "      <td>0.000037</td>\n",
       "      <td>0.000023</td>\n",
       "      <td>0.000025</td>\n",
       "      <td>0.000022</td>\n",
       "      <td>0.000020</td>\n",
       "      <td>0.000027</td>\n",
       "      <td>YAL002W</td>\n",
       "    </tr>\n",
       "    <tr>\n",
       "      <th>2</th>\n",
       "      <td>EFB1</td>\n",
       "      <td>0.001254</td>\n",
       "      <td>0.000999</td>\n",
       "      <td>0.001135</td>\n",
       "      <td>0.001217</td>\n",
       "      <td>0.001211</td>\n",
       "      <td>0.001374</td>\n",
       "      <td>0.001378</td>\n",
       "      <td>0.001432</td>\n",
       "      <td>0.000990</td>\n",
       "      <td>0.001696</td>\n",
       "      <td>0.001355</td>\n",
       "      <td>0.001418</td>\n",
       "      <td>0.001401</td>\n",
       "      <td>YAL003W</td>\n",
       "    </tr>\n",
       "    <tr>\n",
       "      <th>3</th>\n",
       "      <td>YAL004W</td>\n",
       "      <td>0.000000</td>\n",
       "      <td>0.000000</td>\n",
       "      <td>0.000000</td>\n",
       "      <td>0.000000</td>\n",
       "      <td>0.000000</td>\n",
       "      <td>0.000000</td>\n",
       "      <td>0.000000</td>\n",
       "      <td>0.000000</td>\n",
       "      <td>0.000000</td>\n",
       "      <td>0.000000</td>\n",
       "      <td>0.000000</td>\n",
       "      <td>0.000000</td>\n",
       "      <td>0.000000</td>\n",
       "      <td>YAL004W</td>\n",
       "    </tr>\n",
       "    <tr>\n",
       "      <th>4</th>\n",
       "      <td>SSA1</td>\n",
       "      <td>0.001864</td>\n",
       "      <td>0.001696</td>\n",
       "      <td>0.001471</td>\n",
       "      <td>0.001117</td>\n",
       "      <td>0.001181</td>\n",
       "      <td>0.001143</td>\n",
       "      <td>0.001278</td>\n",
       "      <td>0.001357</td>\n",
       "      <td>0.001487</td>\n",
       "      <td>0.001231</td>\n",
       "      <td>0.001527</td>\n",
       "      <td>0.001430</td>\n",
       "      <td>0.001339</td>\n",
       "      <td>YAL005C</td>\n",
       "    </tr>\n",
       "  </tbody>\n",
       "</table>\n",
       "</div>"
      ],
      "text/plain": [
       "      Gene         0         5        10        15        20        25  \\\n",
       "0     TFC3  0.000013  0.000054  0.000032  0.000024  0.000029  0.000031   \n",
       "1     VPS8  0.000042  0.000005  0.000025  0.000024  0.000021  0.000025   \n",
       "2     EFB1  0.001254  0.000999  0.001135  0.001217  0.001211  0.001374   \n",
       "3  YAL004W  0.000000  0.000000  0.000000  0.000000  0.000000  0.000000   \n",
       "4     SSA1  0.001864  0.001696  0.001471  0.001117  0.001181  0.001143   \n",
       "\n",
       "         30        35        40        45        50        55        60  \\\n",
       "0  0.000026  0.000012  0.000030  0.000025  0.000017  0.000035  0.000036   \n",
       "1  0.000030  0.000037  0.000023  0.000025  0.000022  0.000020  0.000027   \n",
       "2  0.001378  0.001432  0.000990  0.001696  0.001355  0.001418  0.001401   \n",
       "3  0.000000  0.000000  0.000000  0.000000  0.000000  0.000000  0.000000   \n",
       "4  0.001278  0.001357  0.001487  0.001231  0.001527  0.001430  0.001339   \n",
       "\n",
       "  systematic  \n",
       "0    YAL001C  \n",
       "1    YAL002W  \n",
       "2    YAL003W  \n",
       "3    YAL004W  \n",
       "4    YAL005C  "
      ]
     },
     "execution_count": 37,
     "metadata": {},
     "output_type": "execute_result"
    }
   ],
   "source": [
    "mRNA_rel.head()"
   ]
  },
  {
   "cell_type": "code",
   "execution_count": 40,
   "id": "d867f968-ef4b-457a-b840-a0f41267ad45",
   "metadata": {},
   "outputs": [],
   "source": [
    "histones = {'HHF1': 'YBR009C', 'HHF2': 'YNL030W', \n",
    "            'HHT1': 'YBR010W', 'HHT2': 'YNL031C', \n",
    "            'HTB1': 'YDR224C', 'HTB2': 'YBL002W', \n",
    "            'HTA1': 'YDR225W', 'HTA2': 'YBL003C'}"
   ]
  },
  {
   "cell_type": "code",
   "execution_count": 47,
   "id": "150f68e8-2ae0-4f9d-a143-ae14afa195c8",
   "metadata": {},
   "outputs": [],
   "source": [
    "histones_systematic = list(histones.values())"
   ]
  },
  {
   "cell_type": "markdown",
   "id": "e635b076-10d2-4d78-b7f0-41ca1d58101c",
   "metadata": {},
   "source": [
    "## 3. Histone mRNAs"
   ]
  },
  {
   "cell_type": "markdown",
   "id": "56f2c3a2-b9e8-4d4f-a23f-0cd800ac2a37",
   "metadata": {
    "tags": []
   },
   "source": [
    "### 3.1 Relative amount of mRNAs (RNAseq data)"
   ]
  },
  {
   "cell_type": "code",
   "execution_count": 50,
   "id": "15f72ed8-4191-4ca2-893c-2a56f4ca354f",
   "metadata": {},
   "outputs": [],
   "source": [
    "histones_df = mRNA_rel[mRNA_rel[\"systematic\"].isin(histones_systematic)]"
   ]
  },
  {
   "cell_type": "code",
   "execution_count": 51,
   "id": "53a71fa1-744d-4842-8e1a-a5b5948eb5b6",
   "metadata": {
    "tags": []
   },
   "outputs": [],
   "source": [
    "non_histones_df = mRNA_rel[~mRNA_rel[\"systematic\"].isin(histones_systematic)]"
   ]
  },
  {
   "cell_type": "code",
   "execution_count": null,
   "id": "3dc92f87-135a-4cd1-bce4-e32699d0a0d5",
   "metadata": {},
   "outputs": [],
   "source": []
  },
  {
   "cell_type": "markdown",
   "id": "711bb033-9daf-4062-b3b8-ece74d0d8aee",
   "metadata": {
    "tags": []
   },
   "source": [
    "### 3.2 Absolute amount of mRNAs"
   ]
  },
  {
   "cell_type": "code",
   "execution_count": null,
   "id": "c81042a7-354d-4e95-862b-a9f38c9e98b6",
   "metadata": {},
   "outputs": [],
   "source": []
  },
  {
   "cell_type": "code",
   "execution_count": null,
   "id": "b150b6d4-c9fc-4b1d-aaf9-78bf89a3c1e1",
   "metadata": {},
   "outputs": [],
   "source": []
  },
  {
   "cell_type": "markdown",
   "id": "87df3380-6382-4006-96b2-7be7c10b92d4",
   "metadata": {},
   "source": [
    "## 4. Histone proteins"
   ]
  },
  {
   "cell_type": "code",
   "execution_count": null,
   "id": "a95ba858-ef01-4338-8dbb-0252586b58e5",
   "metadata": {},
   "outputs": [],
   "source": []
  },
  {
   "cell_type": "code",
   "execution_count": null,
   "id": "e85b6418-17aa-4464-9dc4-20d3ee7b95e7",
   "metadata": {},
   "outputs": [],
   "source": []
  },
  {
   "cell_type": "code",
   "execution_count": null,
   "id": "30d3df96-de1b-430e-abbb-8ab2841b12a7",
   "metadata": {},
   "outputs": [],
   "source": []
  }
 ],
 "metadata": {
  "kernelspec": {
   "display_name": "Python 3 (ipykernel)",
   "language": "python",
   "name": "python3"
  },
  "language_info": {
   "codemirror_mode": {
    "name": "ipython",
    "version": 3
   },
   "file_extension": ".py",
   "mimetype": "text/x-python",
   "name": "python",
   "nbconvert_exporter": "python",
   "pygments_lexer": "ipython3",
   "version": "3.9.0"
  }
 },
 "nbformat": 4,
 "nbformat_minor": 5
}
