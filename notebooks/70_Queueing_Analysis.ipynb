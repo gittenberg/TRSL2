{
 "cells": [
  {
   "cell_type": "markdown",
   "id": "9f20c881-432e-4488-b3f6-f3ba585270ff",
   "metadata": {},
   "source": [
    "# 70 Queueing Analysis"
   ]
  },
  {
   "cell_type": "code",
   "execution_count": 1,
   "id": "24e24415-0c46-44d5-b33e-1f945045a4eb",
   "metadata": {},
   "outputs": [],
   "source": [
    "import pickle"
   ]
  },
  {
   "cell_type": "markdown",
   "id": "4019debd-2d33-4cc1-87f1-2dbbe76fbc62",
   "metadata": {},
   "source": [
    "Add translation to the `sys.path`:"
   ]
  },
  {
   "cell_type": "code",
   "execution_count": 4,
   "id": "6857389f-5d76-4166-a7e6-43fa77f0e470",
   "metadata": {},
   "outputs": [],
   "source": [
    "import sys\n",
    "sys.path.append(r'../')\n",
    "sys.path.append(r'../translation/')"
   ]
  },
  {
   "cell_type": "code",
   "execution_count": 5,
   "id": "304f275e-1420-4a3f-9803-87ab17427809",
   "metadata": {},
   "outputs": [],
   "source": [
    "results_file =  \"../results/updated Shah transcriptome, full exome, no decay, updated initiation rates according to Shah_20211109_0858_200000_ribosomes_3600s.p\""
   ]
  },
  {
   "cell_type": "code",
   "execution_count": 6,
   "id": "e168d1d1-7e3b-4f4c-bdb5-7f2a8792aef1",
   "metadata": {},
   "outputs": [],
   "source": [
    "with open(results_file, 'rb') as f:\n",
    "    results = pickle.load(f)"
   ]
  },
  {
   "cell_type": "code",
   "execution_count": 7,
   "id": "a92d36c3-6ece-4c49-9957-bea94574082f",
   "metadata": {},
   "outputs": [
    {
     "data": {
      "text/plain": [
       "dict_keys(['proteome', 'peptide_bonds', 'transcriptome', 'timerange', 'timecourses', 'description', 'time_stamp', 'n_ribosomes', 'n_tRNA', 'duration'])"
      ]
     },
     "execution_count": 7,
     "metadata": {},
     "output_type": "execute_result"
    }
   ],
   "source": [
    "results.keys()"
   ]
  },
  {
   "cell_type": "code",
   "execution_count": 12,
   "id": "1620cb62-146d-42eb-9342-2cc3a94652fa",
   "metadata": {},
   "outputs": [
    {
     "data": {
      "text/plain": [
       "{1173: None}"
      ]
     },
     "execution_count": 12,
     "metadata": {},
     "output_type": "execute_result"
    }
   ],
   "source": [
    "results['transcriptome'][99].ribosomes"
   ]
  },
  {
   "cell_type": "code",
   "execution_count": null,
   "id": "803e752f-7352-46e9-8ec9-eb6a4d542bcd",
   "metadata": {},
   "outputs": [],
   "source": []
  }
 ],
 "metadata": {
  "kernelspec": {
   "display_name": "Python 3 (ipykernel)",
   "language": "python",
   "name": "python3"
  },
  "language_info": {
   "codemirror_mode": {
    "name": "ipython",
    "version": 3
   },
   "file_extension": ".py",
   "mimetype": "text/x-python",
   "name": "python",
   "nbconvert_exporter": "python",
   "pygments_lexer": "ipython3",
   "version": "3.9.0"
  }
 },
 "nbformat": 4,
 "nbformat_minor": 5
}
