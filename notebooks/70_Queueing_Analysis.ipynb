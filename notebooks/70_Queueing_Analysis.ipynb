{
 "cells": [
  {
   "cell_type": "markdown",
   "id": "9f20c881-432e-4488-b3f6-f3ba585270ff",
   "metadata": {},
   "source": [
    "# 70 Queueing Analysis"
   ]
  },
  {
   "cell_type": "code",
   "execution_count": 1,
   "id": "24e24415-0c46-44d5-b33e-1f945045a4eb",
   "metadata": {},
   "outputs": [],
   "source": [
    "import pickle\n",
    "import collections as col"
   ]
  },
  {
   "cell_type": "markdown",
   "id": "4019debd-2d33-4cc1-87f1-2dbbe76fbc62",
   "metadata": {},
   "source": [
    "Add translation to the `sys.path`:"
   ]
  },
  {
   "cell_type": "code",
   "execution_count": 2,
   "id": "6857389f-5d76-4166-a7e6-43fa77f0e470",
   "metadata": {},
   "outputs": [],
   "source": [
    "import sys\n",
    "sys.path.append(r'../')\n",
    "sys.path.append(r'../translation/')"
   ]
  },
  {
   "cell_type": "code",
   "execution_count": 3,
   "id": "304f275e-1420-4a3f-9803-87ab17427809",
   "metadata": {},
   "outputs": [],
   "source": [
    "results_file =  \"../results/updated Shah transcriptome, full exome, no decay, updated initiation rates according to Shah_20211109_0858_200000_ribosomes_3600s.p\""
   ]
  },
  {
   "cell_type": "code",
   "execution_count": 4,
   "id": "e168d1d1-7e3b-4f4c-bdb5-7f2a8792aef1",
   "metadata": {},
   "outputs": [],
   "source": [
    "with open(results_file, 'rb') as f:\n",
    "    results = pickle.load(f)"
   ]
  },
  {
   "cell_type": "code",
   "execution_count": 5,
   "id": "a92d36c3-6ece-4c49-9957-bea94574082f",
   "metadata": {},
   "outputs": [
    {
     "data": {
      "text/plain": [
       "dict_keys(['proteome', 'peptide_bonds', 'transcriptome', 'timerange', 'timecourses', 'description', 'time_stamp', 'n_ribosomes', 'n_tRNA', 'duration'])"
      ]
     },
     "execution_count": 5,
     "metadata": {},
     "output_type": "execute_result"
    }
   ],
   "source": [
    "results.keys()"
   ]
  },
  {
   "cell_type": "markdown",
   "id": "add22937-d3e7-465b-95cf-9648f9508322",
   "metadata": {},
   "source": [
    "Number of transcripts:"
   ]
  },
  {
   "cell_type": "code",
   "execution_count": 6,
   "id": "1620cb62-146d-42eb-9342-2cc3a94652fa",
   "metadata": {},
   "outputs": [
    {
     "data": {
      "text/plain": [
       "57508"
      ]
     },
     "execution_count": 6,
     "metadata": {},
     "output_type": "execute_result"
    }
   ],
   "source": [
    "len(results['transcriptome'])"
   ]
  },
  {
   "cell_type": "markdown",
   "id": "21dc8297-2d37-4a43-a050-470847a8b979",
   "metadata": {},
   "source": [
    "Number of transcripts with at least 1 ribosome:"
   ]
  },
  {
   "cell_type": "code",
   "execution_count": 7,
   "id": "803e752f-7352-46e9-8ec9-eb6a4d542bcd",
   "metadata": {
    "tags": []
   },
   "outputs": [],
   "source": [
    "polysomes_sensu_lato = [transcript for transcript in results['transcriptome'] if len(transcript.ribosomes) >= 1]"
   ]
  },
  {
   "cell_type": "code",
   "execution_count": 8,
   "id": "e07db96e-544e-4127-abc4-637be0af3359",
   "metadata": {},
   "outputs": [
    {
     "data": {
      "text/plain": [
       "12349"
      ]
     },
     "execution_count": 8,
     "metadata": {},
     "output_type": "execute_result"
    }
   ],
   "source": [
    "len(polysomes_sensu_lato)"
   ]
  },
  {
   "cell_type": "markdown",
   "id": "9714ddd2-d0d2-4ba8-8bf4-4656f8d9a307",
   "metadata": {},
   "source": [
    "Number of transcripts with at least 2 ribosomes:"
   ]
  },
  {
   "cell_type": "code",
   "execution_count": 9,
   "id": "72afdaa9-9eab-44e8-ac00-9b182f05513e",
   "metadata": {
    "tags": []
   },
   "outputs": [],
   "source": [
    "polysomes_sensu_stricto = [transcript for transcript in results['transcriptome'] if len(transcript.ribosomes) >= 2]"
   ]
  },
  {
   "cell_type": "code",
   "execution_count": 10,
   "id": "877ace70-6a4a-463e-bd15-5d67e52e383f",
   "metadata": {},
   "outputs": [
    {
     "data": {
      "text/plain": [
       "1533"
      ]
     },
     "execution_count": 10,
     "metadata": {},
     "output_type": "execute_result"
    }
   ],
   "source": [
    "len(polysomes_sensu_stricto)"
   ]
  },
  {
   "cell_type": "code",
   "execution_count": 11,
   "id": "3ff7f06c-d45e-4f3b-9968-8a2bf153ec0f",
   "metadata": {},
   "outputs": [
    {
     "data": {
      "text/plain": [
       "{282: None, 1371: None}"
      ]
     },
     "execution_count": 11,
     "metadata": {},
     "output_type": "execute_result"
    }
   ],
   "source": [
    "polysomes_sensu_stricto[0].ribosomes"
   ]
  },
  {
   "cell_type": "markdown",
   "id": "8ea32cc8-68cd-43a4-a66d-0160b736048a",
   "metadata": {},
   "source": [
    "Function to calculate list of distances between ribosomes:"
   ]
  },
  {
   "cell_type": "code",
   "execution_count": 12,
   "id": "c00820ed-e038-4f55-973d-2d853eab8899",
   "metadata": {},
   "outputs": [],
   "source": [
    "def ribosome_distances(polysome):\n",
    "    t = list(polysome.ribosomes.keys())\n",
    "    return [abs(j - i) for i, j in zip(t[:-1], t[1:])]"
   ]
  },
  {
   "cell_type": "code",
   "execution_count": 13,
   "id": "deda9db3-9065-417a-9e46-54800e66543a",
   "metadata": {},
   "outputs": [
    {
     "data": {
      "text/plain": [
       "[1698]"
      ]
     },
     "execution_count": 13,
     "metadata": {},
     "output_type": "execute_result"
    }
   ],
   "source": [
    "ribosome_distances(polysomes_sensu_stricto[2])"
   ]
  },
  {
   "cell_type": "code",
   "execution_count": 14,
   "id": "62542473-28b2-44a8-b2bb-9d9013f297fa",
   "metadata": {},
   "outputs": [],
   "source": [
    "c = col.Counter()"
   ]
  },
  {
   "cell_type": "code",
   "execution_count": 15,
   "id": "5661b2be-c4d9-4427-8356-372d43912c45",
   "metadata": {},
   "outputs": [],
   "source": [
    "for polysome in polysomes_sensu_stricto:\n",
    "    c = c + col.Counter(ribosome_distances(polysome))"
   ]
  },
  {
   "cell_type": "code",
   "execution_count": 17,
   "id": "7273ddfd-41fb-4eeb-9363-c87d0a54d577",
   "metadata": {},
   "outputs": [],
   "source": [
    "c = dict(sorted(c.items()))"
   ]
  },
  {
   "cell_type": "code",
   "execution_count": 18,
   "id": "731fe2c3-5aab-4f5a-b122-32766673a332",
   "metadata": {},
   "outputs": [
    {
     "data": {
      "text/plain": [
       "1678"
      ]
     },
     "execution_count": 18,
     "metadata": {},
     "output_type": "execute_result"
    }
   ],
   "source": [
    "sum(c.values())"
   ]
  },
  {
   "cell_type": "markdown",
   "id": "717734ac-a814-43a3-86d9-e6c4ef6206dc",
   "metadata": {},
   "source": [
    "Definition of a threshold for a queue in nucleotides according to https://journals.plos.org/ploscompbiol/article?id=10.1371/journal.pcbi.1005951 (section Translation simulation):"
   ]
  },
  {
   "cell_type": "code",
   "execution_count": 20,
   "id": "28202961-5407-4e2c-8c53-8a7061386cf5",
   "metadata": {},
   "outputs": [],
   "source": [
    "threshold = 4 * 3 # 4 codons"
   ]
  },
  {
   "cell_type": "code",
   "execution_count": 26,
   "id": "c0fbd126-a060-40f8-90d0-ff714f2ce5fb",
   "metadata": {},
   "outputs": [
    {
     "data": {
      "text/plain": [
       "5"
      ]
     },
     "execution_count": 26,
     "metadata": {},
     "output_type": "execute_result"
    }
   ],
   "source": [
    "sum([c[distance] for distance in c if distance <= threshold])"
   ]
  },
  {
   "cell_type": "code",
   "execution_count": null,
   "id": "ab33b567-8dff-49b3-a818-a28730d49df1",
   "metadata": {},
   "outputs": [],
   "source": []
  }
 ],
 "metadata": {
  "kernelspec": {
   "display_name": "Python 3 (ipykernel)",
   "language": "python",
   "name": "python3"
  },
  "language_info": {
   "codemirror_mode": {
    "name": "ipython",
    "version": 3
   },
   "file_extension": ".py",
   "mimetype": "text/x-python",
   "name": "python",
   "nbconvert_exporter": "python",
   "pygments_lexer": "ipython3",
   "version": "3.9.0"
  }
 },
 "nbformat": 4,
 "nbformat_minor": 5
}
